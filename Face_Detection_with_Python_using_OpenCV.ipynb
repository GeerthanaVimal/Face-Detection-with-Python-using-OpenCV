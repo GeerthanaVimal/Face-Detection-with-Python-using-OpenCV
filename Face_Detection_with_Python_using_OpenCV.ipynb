{
  "cells": [
    {
      "cell_type": "code",
      "execution_count": 90,
      "metadata": {
        "id": "vx9ZfSaZEa2j"
      },
      "outputs": [],
      "source": [
        "import cv2\n"
      ]
    },
    {
      "cell_type": "code",
      "execution_count": 91,
      "metadata": {
        "id": "z63a51QzGvTq"
      },
      "outputs": [],
      "source": [
        "face_cascade = cv2.CascadeClassifier('face detection.xml') "
      ]
    },
    {
      "cell_type": "code",
      "execution_count": 92,
      "metadata": {
        "id": "B67Ny7vDGzHm"
      },
      "outputs": [],
      "source": [
        "img = cv2.imread('Geerthana.jpg') "
      ]
    },
    {
      "cell_type": "code",
      "execution_count": 93,
      "metadata": {
        "id": "HKIuA21KG5S0"
      },
      "outputs": [],
      "source": [
        "faces = face_cascade.detectMultiScale(img, 1.1, 4) "
      ]
    },
    {
      "cell_type": "code",
      "execution_count": 94,
      "metadata": {
        "id": "FAt5BRxBG9pr"
      },
      "outputs": [],
      "source": [
        "\n",
        "for (x, y, w, h) in faces: \n",
        "  cv2.rectangle(img, (x, y), (x+w, y+h), (255, 0, 0), 2)"
      ]
    },
    {
      "cell_type": "code",
      "execution_count": 95,
      "metadata": {
        "colab": {
          "base_uri": "https://localhost:8080/"
        },
        "id": "tkV2XUkVHBWr",
        "outputId": "2fbe17a3-c4b2-4d59-cff1-59a8c7d06f1b"
      },
      "outputs": [
        {
          "name": "stdout",
          "output_type": "stream",
          "text": [
            "Photo successfully exported!\n"
          ]
        }
      ],
      "source": [
        "\n",
        "cv2.imwrite(\"face_detected.png\", img) \n",
        "print('Photo successfully exported!')"
      ]
    }
  ],
  "metadata": {
    "accelerator": "GPU",
    "colab": {
      "collapsed_sections": [],
      "provenance": []
    },
    "kernelspec": {
      "display_name": "Python 3",
      "name": "python3"
    },
    "language_info": {
      "name": "python"
    }
  },
  "nbformat": 4,
  "nbformat_minor": 0
}
